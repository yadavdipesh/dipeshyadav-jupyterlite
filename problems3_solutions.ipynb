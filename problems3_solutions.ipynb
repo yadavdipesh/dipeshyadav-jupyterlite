{
 "cells": [
  {
   "cell_type": "markdown",
   "id": "a53a1df3-401b-41a4-9f4b-d9be29392010",
   "metadata": {},
   "source": [
    "1. Power of number\n",
    "\n",
    "    Write a function `power` that takes a number `x` and returns either its square, cube, or any power based on a keyword argument `exp`. If `exp` is not provided, use square (default = 2).\n",
    "\n",
    "    \n",
    "    Input: power(5)                      \n",
    "    Output: 25\n",
    "\n",
    "    Input: power(5, exp=3)  \n",
    "    Output: 125"
   ]
  },
  {
   "cell_type": "code",
   "execution_count": 2,
   "id": "888ca142-0c29-4cc3-a9d5-0bd71791677a",
   "metadata": {},
   "outputs": [
    {
     "name": "stdout",
     "output_type": "stream",
     "text": [
      "25\n",
      "125\n"
     ]
    }
   ],
   "source": [
    "def power(x, exp=2):      # default value of exp is 2\n",
    "    return x ** exp\n",
    "\n",
    "\n",
    "print(power(5))           # Output: 25\n",
    "print(power(5, exp=3))    # Output: 125"
   ]
  },
  {
   "cell_type": "markdown",
   "id": "24adda34-9796-45d3-a9fe-3a5f05f0f99b",
   "metadata": {},
   "source": [
    "2. Keyword arguments statement print\n",
    "\n",
    "    Write a function that introduces a person with name, age, and city. Use *keyword arguments*.\n",
    "\n",
    "    Input:\n",
    "    `name`=\"abc\", `city`=\"xyz\", `age`=123\n",
    "\n",
    "    Output:\n",
    "    My name is abc, I am 123 years old, and I live in xyz."
   ]
  },
  {
   "cell_type": "code",
   "execution_count": 4,
   "id": "9fbd2cdf-5770-48b1-b65a-c7a99cff3b21",
   "metadata": {},
   "outputs": [
    {
     "name": "stdout",
     "output_type": "stream",
     "text": [
      "My name is Hassan, I am 26 years old, and I live in Mumbai\n"
     ]
    }
   ],
   "source": [
    "def func(name, city, age):\n",
    "    print(f\"My name is {name}, I am {age} years old, and I live in {city}\")\n",
    "\n",
    "\n",
    "func(\"Hassan\", \"Mumbai\", 26)"
   ]
  },
  {
   "cell_type": "markdown",
   "id": "da515162-62e5-43ee-99e0-bc9879ceead6",
   "metadata": {},
   "source": [
    "3. Sum and mean\n",
    "\n",
    "    Write a function that takes a list of numbers and returns both the sum and the mean.\n",
    "\n",
    "    Input: [10, 20, 30]   \n",
    "    Output: Sum = 60, Mean = 20"
   ]
  },
  {
   "cell_type": "code",
   "execution_count": 5,
   "id": "6bd3d178-6a92-46c6-83a9-53d0abfefe9f",
   "metadata": {},
   "outputs": [
    {
     "name": "stdout",
     "output_type": "stream",
     "text": [
      "(60, 20.0)\n"
     ]
    }
   ],
   "source": [
    "def sum_and_mean(numbers):\n",
    "    total = 0\n",
    "    for value in numbers:\n",
    "        total += value\n",
    "    return total, total / len(numbers)\n",
    "\n",
    "\n",
    "print(sum_and_mean([10, 20, 30]))  # (60, 20.0)"
   ]
  },
  {
   "cell_type": "markdown",
   "id": "6a31b776-353b-40cd-ba71-fa01d45488bb",
   "metadata": {},
   "source": [
    "4. Write a function that prints a multiplication table of a given number.\n",
    "\n",
    "    Input: 5    \n",
    "    Output:\n",
    "\n",
    "    5 * 1 = 5\n",
    "\n",
    "    5 * 2 = 10\n",
    "\n",
    "    5 * 3 = 15\n",
    "    ...\n",
    "\n",
    "    5 * 10 = 50\n"
   ]
  },
  {
   "cell_type": "code",
   "execution_count": 6,
   "id": "bca2ef44-0159-4e37-9b08-055948ad3b04",
   "metadata": {},
   "outputs": [
    {
     "name": "stdout",
     "output_type": "stream",
     "text": [
      "5 * 1 = 5\n",
      "5 * 2 = 10\n",
      "5 * 3 = 15\n",
      "5 * 4 = 20\n",
      "5 * 5 = 25\n",
      "5 * 6 = 30\n",
      "5 * 7 = 35\n",
      "5 * 8 = 40\n",
      "5 * 9 = 45\n",
      "5 * 10 = 50\n"
     ]
    }
   ],
   "source": [
    "def multi(n):\n",
    "    for i in range(1, 11):\n",
    "        print(f\"{n} * {i} = {n * i}\")\n",
    "\n",
    "        \n",
    "multi(5)"
   ]
  },
  {
   "cell_type": "markdown",
   "id": "8aacf826",
   "metadata": {},
   "source": [
    "5. Write a function `normalize_list` that takes a list of positive numbers and normalizes them so that all values are scaled down between 0 and 1, and the sum of the list is 1. Modify the list in-place and return nothing.\n",
    "\n",
    "\n",
    "    Input: [1, 4, 5]                \n",
    "    Output: [0.1, 0.4, 0.5]\n",
    "\n",
    "    Input: [1, 3, 4, 8]             \n",
    "    Output: [0.0625, 0.1875, 0.25, 0.5]\n"
   ]
  },
  {
   "cell_type": "code",
   "execution_count": 7,
   "id": "d37f8243",
   "metadata": {},
   "outputs": [
    {
     "data": {
      "text/plain": [
       "[0.0625, 0.1875, 0.25, 0.5]"
      ]
     },
     "execution_count": 7,
     "metadata": {},
     "output_type": "execute_result"
    }
   ],
   "source": [
    "def normalize_list(numbers):\n",
    "    sums = 0\n",
    "    for i in range(len(numbers)):\n",
    "        sums += numbers[i]\n",
    "    for i in range(len(numbers)):\n",
    "        numbers[i] /= sums\n",
    "    return numbers\n",
    "\n",
    "\n",
    "normalize_list([1, 3, 4, 8])"
   ]
  }
 ],
 "metadata": {
  "kernelspec": {
   "display_name": "Python 3 (ipykernel)",
   "language": "python",
   "name": "python3"
  },
  "language_info": {
   "codemirror_mode": {
    "name": "ipython",
    "version": 3
   },
   "file_extension": ".py",
   "mimetype": "text/x-python",
   "name": "python",
   "nbconvert_exporter": "python",
   "pygments_lexer": "ipython3",
   "version": "3.13.5"
  }
 },
 "nbformat": 4,
 "nbformat_minor": 5
}
