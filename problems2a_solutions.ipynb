{
 "cells": [
  {
   "cell_type": "markdown",
   "id": "97279105",
   "metadata": {},
   "source": [
    "1) Count Even Numbers in List: Write a function that takes a list of integers and returns how many of them are even.\n",
    "\n",
    "    Input: [1, 2, 4, 5, 6]  \n",
    "    Output: 3"
   ]
  },
  {
   "cell_type": "code",
   "execution_count": 1,
   "id": "bad4797c",
   "metadata": {},
   "outputs": [
    {
     "name": "stdout",
     "output_type": "stream",
     "text": [
      "3\n"
     ]
    }
   ],
   "source": [
    "def count_even(numbers):\n",
    "    count = 0\n",
    "    for num in numbers:\n",
    "        if num % 2 == 0:     # check if divisible by 2\n",
    "            count += 1\n",
    "    return count\n",
    "\n",
    "\n",
    "print(count_even([1, 2, 4, 5, 6]))   # Output: 3"
   ]
  },
  {
   "cell_type": "markdown",
   "id": "1da3648d-e129-491b-bef2-9cb73c8f58ea",
   "metadata": {},
   "source": [
    "2) Count Even and Odd Numbers in List: Write a function that takes a list of integers and returns how many of them are even and how many are odd.\n",
    "\n",
    "Input: [1, 2, 4, 5, 6]\n",
    "Output: 3, 2"
   ]
  },
  {
   "cell_type": "code",
   "execution_count": 2,
   "id": "777c0465-33d4-48b7-aec6-5d8c96293a40",
   "metadata": {},
   "outputs": [
    {
     "name": "stdout",
     "output_type": "stream",
     "text": [
      "(3, 2)\n"
     ]
    }
   ],
   "source": [
    "def count_even_odd(numbers):\n",
    "    even_count = 0\n",
    "    odd_count = 0\n",
    "\n",
    "    for num in numbers:\n",
    "        if num % 2 == 0:        # divisible by 2 → even\n",
    "            even_count += 1\n",
    "        else:                   # not divisible by 2 → odd\n",
    "            odd_count += 1\n",
    "\n",
    "    return even_count, odd_count\n",
    "\n",
    "\n",
    "print(count_even_odd([1, 2, 4, 5, 6]))   # Output: (3, 2)"
   ]
  },
  {
   "cell_type": "markdown",
   "id": "d35c0135",
   "metadata": {},
   "source": [
    "3) Check Palindrome Number: Write a function that takes an integer and returns True if it is a palindrome, otherwise False.\n",
    "\n",
    "    Input: 121  \n",
    "    Output: True\n",
    "\n",
    "    Input: 123  \n",
    "    Output: False"
   ]
  },
  {
   "cell_type": "code",
   "execution_count": 3,
   "id": "1eb4afc5",
   "metadata": {},
   "outputs": [
    {
     "name": "stdout",
     "output_type": "stream",
     "text": [
      "True\n",
      "False\n"
     ]
    }
   ],
   "source": [
    "def is_palindrome(n):\n",
    "    original = n\n",
    "    reverse_num = 0\n",
    "\n",
    "    while n > 0:\n",
    "        digit = n % 10                # get last digit\n",
    "        reverse_num = reverse_num * 10 + digit\n",
    "        n = n // 10                   # remove last digit\n",
    "\n",
    "    return original == reverse_num\n",
    "\n",
    "\n",
    "print(is_palindrome(121))   # Output: True\n",
    "print(is_palindrome(123))   # Output: False"
   ]
  },
  {
   "cell_type": "markdown",
   "id": "c0535229",
   "metadata": {},
   "source": [
    "4) Fahrenheit to Celsius Conversion\n",
    "\n",
    "    Write a function `fahrenheit_to_celsius(f)` that converts Fahrenheit to Celsius.\n",
    "\n",
    "    Then write another function `temp_hot(f)` that takes the temperature value in Fahrenheit, calls `fahrenheit_to_celsius`, and returns True if temperature in Celsius is greather than 50, otherwise False.\n",
    "\n",
    "    Example:\n",
    "    Input: fahrenheit_to_celsius(212)  \n",
    "    Output: 100\n",
    "\n",
    "    Input: temp_hot(212)  \n",
    "    Output: True\n",
    "\n",
    "    Input: temp_hot(32)  \n",
    "    Output: False"
   ]
  },
  {
   "cell_type": "code",
   "execution_count": 4,
   "id": "563753f9",
   "metadata": {},
   "outputs": [
    {
     "name": "stdout",
     "output_type": "stream",
     "text": [
      "100.0\n",
      "True\n",
      "False\n"
     ]
    }
   ],
   "source": [
    "def fahrenheit_to_celsius(f):\n",
    "    return (f - 32) * 5 / 9\n",
    "\n",
    "def temp_hot(f):\n",
    "    celsius = fahrenheit_to_celsius(f)\n",
    "    return celsius > 50\n",
    "\n",
    "\n",
    "print(fahrenheit_to_celsius(212))   # Output: 100.0\n",
    "print(temp_hot(212))                # Output: True\n",
    "print(temp_hot(32))                 # Output: False"
   ]
  },
  {
   "cell_type": "markdown",
   "id": "8844850d",
   "metadata": {},
   "source": [
    "5) Write a function that takes a list of integers and returns the difference between squares of the largest and smallest number.\n",
    "\n",
    "    Input: [1, 2, 3, 4]  \n",
    "    Output: 15\n",
    "\n",
    "    Input: [2, 6, 3]  \n",
    "    Output: 32"
   ]
  },
  {
   "cell_type": "code",
   "execution_count": 5,
   "id": "6ebab97d",
   "metadata": {},
   "outputs": [
    {
     "name": "stdout",
     "output_type": "stream",
     "text": [
      "15\n",
      "32\n"
     ]
    }
   ],
   "source": [
    "def diff_squares(numbers):\n",
    "    largest = max(numbers)      # find largest number\n",
    "    smallest = min(numbers)     # find smallest number\n",
    "    return largest**2 - smallest**2\n",
    "\n",
    "\n",
    "print(diff_squares([1, 2, 3, 4]))   # Output: 15\n",
    "print(diff_squares([2, 6, 3]))      # Output: 32"
   ]
  },
  {
   "cell_type": "markdown",
   "id": "09cd97fd",
   "metadata": {},
   "source": [
    "6) Write a function that returns the product of all numbers in the list.\n",
    "\n",
    "    Input: [2, 3, 4]  \n",
    "    Output: 24\n"
   ]
  },
  {
   "cell_type": "code",
   "execution_count": 7,
   "id": "99e5ff4b",
   "metadata": {},
   "outputs": [
    {
     "name": "stdout",
     "output_type": "stream",
     "text": [
      "24\n"
     ]
    }
   ],
   "source": [
    "def product_list(numbers):\n",
    "    product = 1                # start with 1 (multiplicative identity)\n",
    "    for num in numbers:\n",
    "        product *= num         # multiply each number into product\n",
    "    return product\n",
    "\n",
    "\n",
    "print(product_list([2, 3, 4]))   # Output: 24"
   ]
  }
 ],
 "metadata": {
  "kernelspec": {
   "display_name": "Python 3 (ipykernel)",
   "language": "python",
   "name": "python3"
  },
  "language_info": {
   "codemirror_mode": {
    "name": "ipython",
    "version": 3
   },
   "file_extension": ".py",
   "mimetype": "text/x-python",
   "name": "python",
   "nbconvert_exporter": "python",
   "pygments_lexer": "ipython3",
   "version": "3.13.5"
  }
 },
 "nbformat": 4,
 "nbformat_minor": 5
}
