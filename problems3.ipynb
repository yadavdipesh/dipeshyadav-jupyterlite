{
 "cells": [
  {
   "cell_type": "markdown",
   "id": "a53a1df3-401b-41a4-9f4b-d9be29392010",
   "metadata": {},
   "source": [
    "1. Power of number\n",
    "\n",
    "    Write a function `power` that takes a number `x` and returns either its square, cube, or any power based on a keyword argument `exp`. If `exp` is not provided, use square (default = 2).\n",
    "\n",
    "    \n",
    "    Input: power(5)                      \n",
    "    Output: 25\n",
    "\n",
    "    Input: power(5, exp=3)  \n",
    "    Output: 125"
   ]
  },
  {
   "cell_type": "code",
   "execution_count": 10,
   "id": "888ca142-0c29-4cc3-a9d5-0bd71791677a",
   "metadata": {},
   "outputs": [
    {
     "name": "stdout",
     "output_type": "stream",
     "text": [
      "25\n",
      "125\n"
     ]
    }
   ],
   "source": [
    "def power(x, exp=2):\n",
    "    print(x**exp) \n",
    "\n",
    "power(5)\n",
    "power(5,3)"
   ]
  },
  {
   "cell_type": "markdown",
   "id": "66998639-c853-4ea7-be68-09ebd21be5d6",
   "metadata": {},
   "source": [
    "2. Keyword arguments statement print\n",
    "\n",
    "    Write a function that introduces a person with name, age, and city. Use *keyword arguments*.\n",
    "\n",
    "    Input:\n",
    "    `name`=\"abc\", `city`=\"xyz\", `age`=123\n",
    "\n",
    "    Output:\n",
    "    My name is abc, I am 123 years old, and I live in xyz."
   ]
  },
  {
   "cell_type": "code",
   "execution_count": 22,
   "id": "9fbd2cdf-5770-48b1-b65a-c7a99cff3b21",
   "metadata": {},
   "outputs": [
    {
     "name": "stdout",
     "output_type": "stream",
     "text": [
      "My Name is Dipesh, I am 45 years old and I am staying in AD.\n",
      "My Name is Yadav, I am 50 years old and I am staying in PN.\n",
      "My Name is Yadav, I am 50 years old and I am staying in PN.\n"
     ]
    }
   ],
   "source": [
    "def introduce (name=\"Dipesh\", city=\"AD\", age=45):\n",
    "    print(f\"My Name is {name}, I am {age} years old and I am staying in {city}.\")\n",
    "\n",
    "introduce()\n",
    "introduce(\"Yadav\",\"PN\", 50)\n",
    "introduce(name =\"Yadav\",age =50, city =\"PN\")"
   ]
  },
  {
   "cell_type": "markdown",
   "id": "da515162-62e5-43ee-99e0-bc9879ceead6",
   "metadata": {},
   "source": [
    "3. Sum and mean\n",
    "\n",
    "    Write a function that takes a list of numbers and returns both the sum and the mean.\n",
    "\n",
    "    Input: [10, 20, 30]   \n",
    "    Output: Sum = 60, Mean = 20"
   ]
  },
  {
   "cell_type": "code",
   "execution_count": 24,
   "id": "6bd3d178-6a92-46c6-83a9-53d0abfefe9f",
   "metadata": {},
   "outputs": [
    {
     "name": "stdout",
     "output_type": "stream",
     "text": [
      "10 2.0\n"
     ]
    }
   ],
   "source": [
    "def sum_mean(l):\n",
    "    total = sum(l)\n",
    "    mean = sum(l)/ len(l)\n",
    "    return total , mean\n",
    "\n",
    "s, m =sum_mean(range(0,5))\n",
    "print(s, m)"
   ]
  },
  {
   "cell_type": "markdown",
   "id": "6a31b776-353b-40cd-ba71-fa01d45488bb",
   "metadata": {},
   "source": [
    "4. Write a function that prints a multiplication table of a given number.\n",
    "\n",
    "    Input: 5    \n",
    "    Output:\n",
    "\n",
    "    5 * 1 = 5\n",
    "\n",
    "    5 * 2 = 10\n",
    "\n",
    "    5 * 3 = 15\n",
    "    ...\n",
    "\n",
    "    5 * 10 = 50\n"
   ]
  },
  {
   "cell_type": "code",
   "execution_count": 28,
   "id": "bca2ef44-0159-4e37-9b08-055948ad3b04",
   "metadata": {},
   "outputs": [
    {
     "name": "stdout",
     "output_type": "stream",
     "text": [
      "5 * 1 : 5\n",
      "5 * 2 : 10\n",
      "5 * 3 : 15\n",
      "5 * 4 : 20\n",
      "5 * 5 : 25\n",
      "5 * 6 : 30\n",
      "5 * 7 : 35\n",
      "5 * 8 : 40\n",
      "5 * 9 : 45\n",
      "5 * 10 : 50\n"
     ]
    }
   ],
   "source": [
    "def mult_table(num):\n",
    "    for i in range(1,11):\n",
    "        print(f\"{num} * {i} : {num*i}\")\n",
    "mult_table(5)"
   ]
  },
  {
   "cell_type": "markdown",
   "id": "8aacf826",
   "metadata": {},
   "source": [
    "5. Write a function `normalize_list` that takes a list of positive numbers and normalizes them so that all values are scaled down between 0 and 1, and the sum of the list is 1. Modify the list in-place and return nothing.\n",
    "\n",
    "\n",
    "    Input: [1, 4, 5]                \n",
    "    Output: [0.1, 0.4, 0.5]\n",
    "\n",
    "    Input: [1, 3, 4, 8]             \n",
    "    Output: [0.0625, 0.1875, 0.25, 0.5]\n"
   ]
  },
  {
   "cell_type": "code",
   "execution_count": 70,
   "id": "d37f8243",
   "metadata": {},
   "outputs": [
    {
     "name": "stdout",
     "output_type": "stream",
     "text": [
      "[0.1, 0.4, 0.5]\n",
      "[0.0625, 0.1875, 0.25, 0.5]\n"
     ]
    }
   ],
   "source": [
    "def normalize_list(my_list):\n",
    "    pos_n = my_list\n",
    "    total = sum (pos_n)\n",
    "    \n",
    "    for i in range(len(pos_n)):\n",
    "        pos_n[i] = pos_n[i]/total\n",
    "    print(pos_n)\n",
    "\n",
    "\n",
    "normalize_list([1, 4, 5])\n",
    "normalize_list([1, 3, 4, 8])"
   ]
  },
  {
   "cell_type": "code",
   "execution_count": null,
   "id": "d4687eea-cd95-46a3-a477-3f99e2792170",
   "metadata": {},
   "outputs": [],
   "source": []
  }
 ],
 "metadata": {
  "kernelspec": {
   "display_name": "Python 3 (ipykernel)",
   "language": "python",
   "name": "python3"
  },
  "language_info": {
   "codemirror_mode": {
    "name": "ipython",
    "version": 3
   },
   "file_extension": ".py",
   "mimetype": "text/x-python",
   "name": "python",
   "nbconvert_exporter": "python",
   "pygments_lexer": "ipython3",
   "version": "3.13.5"
  }
 },
 "nbformat": 4,
 "nbformat_minor": 5
}
