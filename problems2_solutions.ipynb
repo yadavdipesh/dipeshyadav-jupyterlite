{
 "cells": [
  {
   "cell_type": "markdown",
   "id": "bb66d2cf-0b4c-4286-8a77-ebb070935f8f",
   "metadata": {},
   "source": [
    "# Problems for class 3"
   ]
  },
  {
   "cell_type": "markdown",
   "id": "03b38322-bb1c-4c28-8ef6-a5e2aaead64a",
   "metadata": {},
   "source": [
    "1. The famous Collatz sequence can be generated for any starting positive\n",
    "   integer as follows:\n",
    "\n",
    "   Start with an arbitrary (positive) integer.\n",
    "   - If the number is even, divide by 2; if the number is odd, multiply by 3 and add 1.\n",
    "   - Repeat the procedure with the new number.\n",
    "   - It appears that for all starting values there is a cycle of 4, 2, 1 at\n",
    "     which the procedure loops. You should stop when the value goes to 1.\n",
    "\n",
    "   Write a program that prints out the Collatz sequence given a starting value."
   ]
  },
  {
   "cell_type": "code",
   "execution_count": 1,
   "id": "782dd2c5-cc8b-4afb-b2f0-618896bfaef9",
   "metadata": {},
   "outputs": [
    {
     "name": "stdout",
     "output_type": "stream",
     "text": [
      "45\n",
      "136\n",
      "68\n",
      "34\n",
      "17\n",
      "52\n",
      "26\n",
      "13\n",
      "40\n",
      "20\n",
      "10\n",
      "5\n",
      "16\n",
      "8\n",
      "4\n",
      "2\n",
      "1\n"
     ]
    }
   ],
   "source": [
    "n = 45\n",
    "print(n)\n",
    "while n > 1:\n",
    "    if n % 2 == 0:\n",
    "        n = n // 2\n",
    "    else:\n",
    "        n = 3 * n + 1\n",
    "    print(n)"
   ]
  },
  {
   "cell_type": "markdown",
   "id": "21b700b3-def7-4a1f-9a95-91bbaf784701",
   "metadata": {},
   "source": [
    "2. Write a function that is given a starting value (a positive integer), and\n",
    "   returns a list with the Collatz sequence."
   ]
  },
  {
   "cell_type": "code",
   "execution_count": 5,
   "id": "42871eb6-c87c-456d-b774-66fcc0ab0b01",
   "metadata": {},
   "outputs": [
    {
     "data": {
      "text/plain": [
       "[136, 68, 34, 17, 52, 26, 13, 40, 20, 10, 5, 16, 8, 4, 2, 1]"
      ]
     },
     "execution_count": 5,
     "metadata": {},
     "output_type": "execute_result"
    }
   ],
   "source": [
    "def collatz(n):\n",
    "    result = []\n",
    "    while n > 1:\n",
    "        if n % 2 == 0:\n",
    "            n = n // 2\n",
    "        else:\n",
    "            n = 3 * n + 1\n",
    "        result.append(n)\n",
    "    return result\n",
    "\n",
    "\n",
    "collatz(45)"
   ]
  },
  {
   "cell_type": "markdown",
   "id": "8198d2e2-bc65-4640-99c2-8fd38a570d5d",
   "metadata": {},
   "source": [
    "3. Write a function that is given a single argument of an integer (with\n",
    "   arbitrary number of digits), return the number of digits the number has."
   ]
  },
  {
   "cell_type": "code",
   "execution_count": 3,
   "id": "9d959046-5706-4281-8577-a7add7781e2c",
   "metadata": {},
   "outputs": [
    {
     "name": "stdout",
     "output_type": "stream",
     "text": [
      "2\n"
     ]
    }
   ],
   "source": [
    "def count_digits(n):\n",
    "    count = 0\n",
    "    while n != 0:\n",
    "        n = n // 10\n",
    "        count += 1\n",
    "    return count\n",
    "\n",
    "\n",
    "print(count_digits(45))"
   ]
  },
  {
   "cell_type": "markdown",
   "id": "f49a4db6-4e13-4df3-9420-4fc54c37c655",
   "metadata": {},
   "source": [
    "4. Write a function that is given a single argument of an integer (with\n",
    "   arbitrary number of digits), return the sum of the digits."
   ]
  },
  {
   "cell_type": "code",
   "execution_count": 6,
   "id": "c94c9711-b252-4ff5-b7be-c860e4c31107",
   "metadata": {},
   "outputs": [
    {
     "name": "stdout",
     "output_type": "stream",
     "text": [
      "25\n"
     ]
    }
   ],
   "source": [
    "def sum_of_digits(n):\n",
    "    total = 0\n",
    "    while n > 0:\n",
    "        digit = n % 10      # get the last digit\n",
    "        total += digit      # add it to the total\n",
    "        n = n // 10         # remove the last digit\n",
    "    return total\n",
    "\n",
    "\n",
    "print(sum_of_digits(9871))   # Output: 25"
   ]
  },
  {
   "cell_type": "markdown",
   "id": "72976e84-d0a8-48f3-89ec-9800bcbe0047",
   "metadata": {},
   "source": [
    "5. Write a function called `difference` that is given two lists, you should\n",
    "   return a list of any elements that is not common to both the lists."
   ]
  },
  {
   "cell_type": "code",
   "execution_count": 7,
   "id": "4f802a7c-1044-4c21-842c-9014689c01ba",
   "metadata": {},
   "outputs": [
    {
     "name": "stdout",
     "output_type": "stream",
     "text": [
      "[1, 2, 5, 6]\n"
     ]
    }
   ],
   "source": [
    "def difference(list1, list2):\n",
    "    result = []\n",
    "\n",
    "    # Add elements from list1 not in list2\n",
    "    for item in list1:\n",
    "        if item not in list2:\n",
    "            result.append(item)\n",
    "\n",
    "    # Add elements from list2 not in list1\n",
    "    for item in list2:\n",
    "        if item not in list1:\n",
    "            result.append(item)\n",
    "\n",
    "    return result\n",
    "\n",
    "\n",
    "print(difference([1, 2, 3, 4], [3, 4, 5, 6]))   # Output: [1, 2, 5, 6]"
   ]
  }
 ],
 "metadata": {
  "kernelspec": {
   "display_name": "Python 3 (ipykernel)",
   "language": "python",
   "name": "python3"
  },
  "language_info": {
   "codemirror_mode": {
    "name": "ipython",
    "version": 3
   },
   "file_extension": ".py",
   "mimetype": "text/x-python",
   "name": "python",
   "nbconvert_exporter": "python",
   "pygments_lexer": "ipython3",
   "version": "3.13.5"
  }
 },
 "nbformat": 4,
 "nbformat_minor": 5
}
