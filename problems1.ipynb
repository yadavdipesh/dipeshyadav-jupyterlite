{
 "cells": [
  {
   "cell_type": "markdown",
   "id": "0a0b9a24-f34e-4091-9306-e2200dd08b7c",
   "metadata": {},
   "source": [
    " 1) Find the Maximum Number in a list. Hint use the `max` builtin function.\n",
    "\n",
    "    Input: [10, 25, 3, 99, 45]  \n",
    "    Output: 99"
   ]
  },
  {
   "cell_type": "code",
   "execution_count": 3,
   "id": "6e58640e-43ab-48b6-afb4-58fb64842d07",
   "metadata": {},
   "outputs": [
    {
     "data": {
      "text/plain": [
       "99"
      ]
     },
     "execution_count": 3,
     "metadata": {},
     "output_type": "execute_result"
    }
   ],
   "source": [
    "#By Dipesh\n",
    "import numpy as np\n",
    "lst = [10, 25, 3, 99, 45]  \n",
    "max(lst)"
   ]
  },
  {
   "cell_type": "markdown",
   "id": "0901c6f1-4a94-4da1-8604-7689a9295144",
   "metadata": {},
   "source": [
    " 2) Given a number with less than 10 digits, create a list with the digits of the number.\n",
    "\n",
    "    Input: 45  \n",
    "    Output: [4,5]\n",
    "\n",
    "    Input: 62173  \n",
    "    Output: [6,2,1,7,3]"
   ]
  },
  {
   "cell_type": "code",
   "execution_count": 13,
   "id": "b7e098a2-d8ca-41af-9558-e7ab97ba3d49",
   "metadata": {},
   "outputs": [
    {
     "data": {
      "text/plain": [
       "[6, 2, 1, 7, 3]"
      ]
     },
     "execution_count": 13,
     "metadata": {},
     "output_type": "execute_result"
    }
   ],
   "source": [
    "#By Dipesh\n",
    "import numpy as np\n",
    "\n",
    "def digitlist(x):\n",
    "    lst =[]\n",
    "    for i in str(x):\n",
    "        lst.append(int(i))\n",
    "    return lst\n",
    "\n",
    "digitlist(45)\n",
    "digitlist(62173)"
   ]
  },
  {
   "cell_type": "markdown",
   "id": "1a1e717d-a8ce-4480-8705-a080625a1549",
   "metadata": {},
   "source": [
    "    \n",
    " 3) Sum of Digits in a Number\n",
    "\n",
    "    Problem:\n",
    "    Given an integer(less than 10 digits), find the sum of its digits.\n",
    "    Hint: Use floor division `//` binary operator to get the integer part when you perform a division.\n",
    "    For example `11//2 ==  5`\n",
    "    \n",
    "    Input: 4562  \n",
    "    Output: 17\n",
    " "
   ]
  },
  {
   "cell_type": "code",
   "execution_count": 43,
   "id": "750732e4-f374-41b7-b3b7-3d8d00ac1473",
   "metadata": {},
   "outputs": [
    {
     "data": {
      "text/plain": [
       "17"
      ]
     },
     "execution_count": 43,
     "metadata": {},
     "output_type": "execute_result"
    }
   ],
   "source": [
    "#By Dipesh\n",
    "import numpy as np\n",
    "\n",
    "def digisum(x):\n",
    "    result = 0\n",
    "    for i in str(x):\n",
    "        result += x % 10\n",
    "        x //= 10\n",
    "        #print(result)\n",
    "    return result\n",
    "\n",
    "digisum(4562)   \n"
   ]
  },
  {
   "cell_type": "markdown",
   "id": "85703c04-ea78-426a-b8dd-b1b0543cc164",
   "metadata": {},
   "source": [
    "    \n",
    " 4) Factorial of a Number\n",
    "\n",
    "    Problem:\n",
    "    Given an integer n, calculate its factorial (n!) \n",
    "\n",
    "    Input: 5  \n",
    "    Output: 120"
   ]
  },
  {
   "cell_type": "code",
   "execution_count": 51,
   "id": "39f1ac4b-a31f-466b-bfab-f8805b2d2e3b",
   "metadata": {},
   "outputs": [
    {
     "data": {
      "text/plain": [
       "120"
      ]
     },
     "execution_count": 51,
     "metadata": {},
     "output_type": "execute_result"
    }
   ],
   "source": [
    "#By Dipesh\n",
    "import numpy as np\n",
    "\n",
    "\"\"\" retun the Factorial of an integer n\"\"\"\n",
    "def frac(n):\n",
    "    result = 1\n",
    "    for i in range(1, n+1):\n",
    "        result = result*i\n",
    "    return result\n",
    "\n",
    "frac(5)\n"
   ]
  },
  {
   "cell_type": "markdown",
   "id": "a9810f01-ec86-4ab2-b5d1-951f4bd98847",
   "metadata": {},
   "source": [
    "    \n",
    " 5) Divisible by 4 but not by 8\n",
    "\n",
    "    Problem: Print all numbers from 1 to 100 that are divisible by 4 but not divisible by 8.\n",
    "\n",
    "  "
   ]
  },
  {
   "cell_type": "code",
   "execution_count": 66,
   "id": "08934372-d43d-4a39-9b93-b04a1507fdfc",
   "metadata": {},
   "outputs": [
    {
     "name": "stdout",
     "output_type": "stream",
     "text": [
      "4  12  20  28  36  44  52  60  68  76  84  92  100  "
     ]
    }
   ],
   "source": [
    "#By Dipesh\n",
    "import numpy as np\n",
    "\n",
    "\"\"\"Print all numbers from 1 to 100 that are divisible by 4 but not divisible by 8.\"\"\"\n",
    "def divbyfour(n):\n",
    "    for i in range (1,101):\n",
    "        if i % 4 == 0 and i % 8 != 0:\n",
    "            print(i, end =\"  \")\n",
    "\n",
    "divbyfour(10)\n",
    "\n",
    "    "
   ]
  },
  {
   "cell_type": "markdown",
   "id": "d09d83a6-25d9-4548-b24e-067f99ac30e2",
   "metadata": {},
   "source": [
    "  6) Replace All Negative Numbers with Zero\n",
    "\n",
    "    Given a list of integers, replace all negative numbers with 0\n",
    "\n",
    "    Input: [-3, 5, -1, 7]  \n",
    "    Output: [0, 5, 0, 7]"
   ]
  },
  {
   "cell_type": "code",
   "execution_count": 67,
   "id": "a9c67f98-db81-448c-97e7-19ee5c13853d",
   "metadata": {},
   "outputs": [
    {
     "data": {
      "text/plain": [
       "[0, 5, 0, 7]"
      ]
     },
     "execution_count": 67,
     "metadata": {},
     "output_type": "execute_result"
    }
   ],
   "source": [
    "#By Dipesh\n",
    "import numpy as np\n",
    "\n",
    "\"\"\"In a given list of integers, the function will replace all negative numbers with 0\"\"\"\n",
    "def replacebyzero(lst):\n",
    "    result =[]\n",
    "    for i in lst:\n",
    "        if i < 0:\n",
    "            result.append(0)\n",
    "        else:\n",
    "            result.append(i)\n",
    "    return result\n",
    "\n",
    "lst = [-3, 5, -1, 7] \n",
    "replacebyzero(lst)\n",
    "            "
   ]
  },
  {
   "cell_type": "code",
   "execution_count": null,
   "id": "58db6ab8-93ab-4c02-a495-5944dde72d44",
   "metadata": {},
   "outputs": [],
   "source": []
  }
 ],
 "metadata": {
  "kernelspec": {
   "display_name": "Python 3 (ipykernel)",
   "language": "python",
   "name": "python3"
  },
  "language_info": {
   "codemirror_mode": {
    "name": "ipython",
    "version": 3
   },
   "file_extension": ".py",
   "mimetype": "text/x-python",
   "name": "python",
   "nbconvert_exporter": "python",
   "pygments_lexer": "ipython3",
   "version": "3.13.5"
  }
 },
 "nbformat": 4,
 "nbformat_minor": 5
}
