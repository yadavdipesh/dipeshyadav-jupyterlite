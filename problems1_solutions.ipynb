{
 "cells": [
  {
   "cell_type": "markdown",
   "id": "0a0b9a24-f34e-4091-9306-e2200dd08b7c",
   "metadata": {},
   "source": [
    " 1) Find the Maximum Number in a list. Hint use the `max` builtin function.\n",
    "\n",
    "    Input: [10, 25, 3, 99, 45]  \n",
    "    Output: 99"
   ]
  },
  {
   "cell_type": "code",
   "execution_count": 4,
   "id": "6e58640e-43ab-48b6-afb4-58fb64842d07",
   "metadata": {},
   "outputs": [
    {
     "name": "stdout",
     "output_type": "stream",
     "text": [
      "99\n"
     ]
    }
   ],
   "source": [
    "data = [10, 25, 3, 99, 45]\n",
    "print(max(data))  # Output: 99"
   ]
  },
  {
   "cell_type": "markdown",
   "id": "0901c6f1-4a94-4da1-8604-7689a9295144",
   "metadata": {},
   "source": [
    " 2) Given a number with less than 10 digits, create a list with the digits of the number.\n",
    "\n",
    "    Input: 45  \n",
    "    Output: [4,5]\n",
    "\n",
    "    Input: 62173  \n",
    "    Output: [6,2,1,7,3]"
   ]
  },
  {
   "cell_type": "code",
   "execution_count": 1,
   "id": "b7e098a2-d8ca-41af-9558-e7ab97ba3d49",
   "metadata": {},
   "outputs": [
    {
     "name": "stdout",
     "output_type": "stream",
     "text": [
      "[4, 5]\n"
     ]
    }
   ],
   "source": [
    "number = 45\n",
    "digits = []\n",
    "\n",
    "# Check each place value from 10^8 down to 10^0 (since < 10 digits)\n",
    "for place_value in range(9, -1, -1):\n",
    "    divisor = 10 ** place_value\n",
    "    digit = number // divisor   # extract the leftmost digit at this place\n",
    "    if digits or digit != 0:    # avoid leading zeros until first nonzero\n",
    "        digits.append(digit)\n",
    "    number %= divisor           # remove the extracted digit from number\n",
    "\n",
    "print(digits)   # [4, 5]"
   ]
  },
  {
   "cell_type": "markdown",
   "id": "1a1e717d-a8ce-4480-8705-a080625a1549",
   "metadata": {},
   "source": [
    "    \n",
    " 3) Sum of Digits in a Number\n",
    "\n",
    "    Problem:\n",
    "    Given an integer(less than 10 digits), find the sum of its digits.\n",
    "    Hint: Use floor division `//` binary operator to get the integer part when you perform a division.\n",
    "    For example `11//2 ==  5`\n",
    "    \n",
    "    Input: 4562  \n",
    "    Output: 17\n",
    " "
   ]
  },
  {
   "cell_type": "code",
   "execution_count": 2,
   "id": "750732e4-f374-41b7-b3b7-3d8d00ac1473",
   "metadata": {},
   "outputs": [
    {
     "name": "stdout",
     "output_type": "stream",
     "text": [
      "9\n"
     ]
    }
   ],
   "source": [
    "number = 45\n",
    "digit_sum = 0\n",
    "\n",
    "# Loop through possible place values from 10^8 down to 10^0\n",
    "for place_value in range(9, -1, -1):\n",
    "    divisor = 10 ** place_value\n",
    "    digit = number // divisor\n",
    "    if digit != 0 or digit_sum > 0:   # skip leading zeros until first digit\n",
    "        digit_sum += digit\n",
    "    number %= divisor                 # remove the extracted digit\n",
    "\n",
    "print(digit_sum)   # 9"
   ]
  },
  {
   "cell_type": "markdown",
   "id": "85703c04-ea78-426a-b8dd-b1b0543cc164",
   "metadata": {},
   "source": [
    "    \n",
    " 4) Factorial of a Number\n",
    "\n",
    "    Problem:\n",
    "    Given an integer n, calculate its factorial (n!) \n",
    "\n",
    "    Input: 5  \n",
    "    Output: 120"
   ]
  },
  {
   "cell_type": "code",
   "execution_count": null,
   "id": "39f1ac4b-a31f-466b-bfab-f8805b2d2e3b",
   "metadata": {},
   "outputs": [
    {
     "name": "stdout",
     "output_type": "stream",
     "text": [
      "120\n"
     ]
    }
   ],
   "source": [
    "n = 5\n",
    "fact = 1\n",
    "for i in range(1, n+1):\n",
    "    fact *= i\n",
    "\n",
    "\n",
    "print(fact)"
   ]
  },
  {
   "cell_type": "markdown",
   "id": "a9810f01-ec86-4ab2-b5d1-951f4bd98847",
   "metadata": {},
   "source": [
    "    \n",
    " 5) Divisible by 4 but not by 8\n",
    "\n",
    "    Problem: Print all numbers from 1 to 100 that are divisible by 4 but not divisible by 8.\n",
    "\n",
    "  "
   ]
  },
  {
   "cell_type": "code",
   "execution_count": 14,
   "id": "08934372-d43d-4a39-9b93-b04a1507fdfc",
   "metadata": {},
   "outputs": [
    {
     "name": "stdout",
     "output_type": "stream",
     "text": [
      "4\n",
      "12\n",
      "20\n",
      "28\n",
      "36\n",
      "44\n",
      "52\n",
      "60\n",
      "68\n",
      "76\n",
      "84\n",
      "92\n",
      "100\n"
     ]
    }
   ],
   "source": [
    "for i in range(1, 101):        # numbers from 1 to 100\n",
    "    if i % 4 == 0 and i % 8 != 0:\n",
    "        print(i)"
   ]
  },
  {
   "cell_type": "markdown",
   "id": "d09d83a6-25d9-4548-b24e-067f99ac30e2",
   "metadata": {},
   "source": [
    "  6) Replace All Negative Numbers with Zero\n",
    "\n",
    "    Given a list of integers, replace all negative numbers with 0\n",
    "\n",
    "    Input: [-3, 5, -1, 7]  \n",
    "    Output: [0, 5, 0, 7]"
   ]
  },
  {
   "cell_type": "code",
   "execution_count": 4,
   "id": "a9c67f98-db81-448c-97e7-19ee5c13853d",
   "metadata": {},
   "outputs": [
    {
     "name": "stdout",
     "output_type": "stream",
     "text": [
      "[0, 5, 0, 7]\n"
     ]
    }
   ],
   "source": [
    "numbers = [-3, 5, -1, 7]\n",
    "\n",
    "for i in range(len(numbers)):   # go through indices of the list\n",
    "    if numbers[i] < 0:          # check if element is negative\n",
    "        numbers[i] = 0          # replace it with 0\n",
    "\n",
    "print(numbers)   # Output: [0, 5, 0, 7]"
   ]
  }
 ],
 "metadata": {
  "kernelspec": {
   "display_name": "Python 3 (ipykernel)",
   "language": "python",
   "name": "python3"
  },
  "language_info": {
   "codemirror_mode": {
    "name": "ipython",
    "version": 3
   },
   "file_extension": ".py",
   "mimetype": "text/x-python",
   "name": "python",
   "nbconvert_exporter": "python",
   "pygments_lexer": "ipython3",
   "version": "3.13.5"
  }
 },
 "nbformat": 4,
 "nbformat_minor": 5
}
