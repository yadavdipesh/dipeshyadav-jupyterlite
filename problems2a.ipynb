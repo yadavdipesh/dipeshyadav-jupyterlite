{
 "cells": [
  {
   "cell_type": "markdown",
   "id": "97279105",
   "metadata": {},
   "source": [
    "1) Count Even Numbers in List: Write a function that takes a list of integers and returns how many of them are even.\n",
    "\n",
    "    Input: [1, 2, 4, 5, 6]  \n",
    "    Output: 3"
   ]
  },
  {
   "cell_type": "code",
   "execution_count": 1,
   "id": "bad4797c",
   "metadata": {},
   "outputs": [
    {
     "data": {
      "text/plain": [
       "3"
      ]
     },
     "execution_count": 1,
     "metadata": {},
     "output_type": "execute_result"
    }
   ],
   "source": [
    "#By Dipesh\n",
    "def evencount(lst):\n",
    "    count = 0\n",
    "    for i in lst:\n",
    "        if i % 2 == 0:\n",
    "            count += 1\n",
    "    return count\n",
    "\n",
    "x = [1, 2, 4, 5, 6]\n",
    "evencount(x)\n",
    "    "
   ]
  },
  {
   "cell_type": "markdown",
   "id": "1da3648d-e129-491b-bef2-9cb73c8f58ea",
   "metadata": {},
   "source": [
    "2) Count Even and Odd Numbers in List: Write a function that takes a list of integers and returns how many of them are even and how many are odd.\n",
    "\n",
    "Input: [1, 2, 4, 5, 6]\n",
    "Output: 3, 2"
   ]
  },
  {
   "cell_type": "code",
   "execution_count": 2,
   "id": "777c0465-33d4-48b7-aec6-5d8c96293a40",
   "metadata": {},
   "outputs": [
    {
     "name": "stdout",
     "output_type": "stream",
     "text": [
      "3 2\n"
     ]
    }
   ],
   "source": [
    "#By Dipesh\n",
    "def evenoldcount(lst):\n",
    "    ecount =0 \n",
    "    ocount = 0\n",
    "    for i in lst:\n",
    "        if i % 2 == 0:\n",
    "            ecount += 1\n",
    "        else:\n",
    "            ocount += 1\n",
    "    return ecount, ocount\n",
    "\n",
    "x = [1, 2, 4, 5, 6]\n",
    "even, odd = evenoldcount(x)\n",
    "print(even, odd)"
   ]
  },
  {
   "cell_type": "markdown",
   "id": "d35c0135",
   "metadata": {},
   "source": [
    "3) Check Palindrome Number: Write a function that takes an integer and returns True if it is a palindrome, otherwise False.\n",
    "\n",
    "    Input: 121  \n",
    "    Output: True\n",
    "\n",
    "    Input: 123  \n",
    "    Output: False"
   ]
  },
  {
   "cell_type": "code",
   "execution_count": 7,
   "id": "1eb4afc5",
   "metadata": {},
   "outputs": [
    {
     "data": {
      "text/plain": [
       "False"
      ]
     },
     "execution_count": 7,
     "metadata": {},
     "output_type": "execute_result"
    }
   ],
   "source": [
    "#By Dipesh\n",
    "def is_palindrome(num):\n",
    "    if str(num) == str(num)[::-1]:\n",
    "        return True\n",
    "    else:\n",
    "        return False\n",
    "        \n",
    "is_palindrome(121) # true\n",
    "is_palindrome(123) # false"
   ]
  },
  {
   "cell_type": "markdown",
   "id": "c0535229",
   "metadata": {},
   "source": [
    "4) Fahrenheit to Celsius Conversion\n",
    "\n",
    "    Write a function `fahrenheit_to_celsius(f)` that converts Fahrenheit to Celsius.\n",
    "\n",
    "    Then write another function `temp_hot(f)` that takes the temperature value in Fahrenheit, calls `fahrenheit_to_celsius`, and returns True if temperature in Celsius is greather than 50, otherwise False.\n",
    "\n",
    "    Example:\n",
    "    Input: fahrenheit_to_celsius(212)  \n",
    "    Output: 100\n",
    "\n",
    "    Input: temp_hot(212)  \n",
    "    Output: True\n",
    "\n",
    "    Input: temp_hot(32)  \n",
    "    Output: False"
   ]
  },
  {
   "cell_type": "code",
   "execution_count": 13,
   "id": "563753f9",
   "metadata": {},
   "outputs": [
    {
     "name": "stdout",
     "output_type": "stream",
     "text": [
      "True\n",
      "False\n"
     ]
    }
   ],
   "source": [
    "#By Dipesh\n",
    "def fahrenheit_to_celsius(f):\n",
    "    return (f - 32) * 5/9\n",
    "\n",
    "def temp_hot(f):\n",
    "    if fahrenheit_to_celsius(f) > 50:\n",
    "        return True\n",
    "    else:\n",
    "        return False;\n",
    "        \n",
    "print(temp_hot(150)) # true\n",
    "print(temp_hot(100)) # false"
   ]
  },
  {
   "cell_type": "markdown",
   "id": "8844850d",
   "metadata": {},
   "source": [
    "5) Write a function that takes a list of integers and returns the difference between squares of the largest and smallest number.\n",
    "\n",
    "    Input: [1, 2, 3, 4]  \n",
    "    Output: 15\n",
    "\n",
    "    Input: [2, 6, 3]  \n",
    "    Output: 32"
   ]
  },
  {
   "cell_type": "code",
   "execution_count": 15,
   "id": "6ebab97d",
   "metadata": {},
   "outputs": [
    {
     "data": {
      "text/plain": [
       "12"
      ]
     },
     "execution_count": 15,
     "metadata": {},
     "output_type": "execute_result"
    }
   ],
   "source": [
    "#By Dipesh\n",
    "def sqrdiff(num1, num2):\n",
    "    if num1 > num2:\n",
    "        return num1**2 - num2**2\n",
    "    else:\n",
    "        return num2**2 - num1**2\n",
    "        \n",
    "sqrdiff(2,3) # 5\n",
    "sqrdiff(4,2) # 12"
   ]
  },
  {
   "cell_type": "markdown",
   "id": "09cd97fd",
   "metadata": {},
   "source": [
    "6) Write a function that returns the product of all numbers in the list.\n",
    "\n",
    "    Input: [2, 3, 4]  \n",
    "    Output: 24\n"
   ]
  },
  {
   "cell_type": "code",
   "execution_count": 17,
   "id": "99e5ff4b",
   "metadata": {},
   "outputs": [
    {
     "data": {
      "text/plain": [
       "24"
      ]
     },
     "execution_count": 17,
     "metadata": {},
     "output_type": "execute_result"
    }
   ],
   "source": [
    "#By Dipesh\n",
    "\"\"\" retun the product of all numbers in the list\"\"\"\n",
    "def frac(lst):\n",
    "    result = 1\n",
    "    for i in lst:\n",
    "        result = result*i\n",
    "    return result\n",
    "\n",
    "lst1 = [2, 3, 4]\n",
    "frac(lst1)\n"
   ]
  },
  {
   "cell_type": "code",
   "execution_count": null,
   "id": "968adb75-7800-4138-95ef-7b9c4e1f83f6",
   "metadata": {},
   "outputs": [],
   "source": []
  }
 ],
 "metadata": {
  "kernelspec": {
   "display_name": "Python 3 (ipykernel)",
   "language": "python",
   "name": "python3"
  },
  "language_info": {
   "codemirror_mode": {
    "name": "ipython",
    "version": 3
   },
   "file_extension": ".py",
   "mimetype": "text/x-python",
   "name": "python",
   "nbconvert_exporter": "python",
   "pygments_lexer": "ipython3",
   "version": "3.13.5"
  }
 },
 "nbformat": 4,
 "nbformat_minor": 5
}
